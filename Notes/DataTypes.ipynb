{
 "cells": [
  {
   "cell_type": "markdown",
   "id": "0d250ca0",
   "metadata": {},
   "source": [
    "# Data Types In Python"
   ]
  },
  {
   "cell_type": "markdown",
   "id": "57d19a8a",
   "metadata": {},
   "source": [
    "## Immutable Data Types\n",
    "\n",
    "Immutable data types are types whose values cannot be changed after they are created. Any operation that seems to modify them actually creates a new object.\n",
    "\n",
    "### Immutable Data Types in Python\n",
    "\n",
    "1. **Numbers** (int, float, complex)\n",
    "2. **String** (`str`)\n",
    "3. **Tuple** (`tuple`)\n",
    "4. **Bytes** (`bytes`)\n",
    "\n",
    "**Note:** Attempting to modify an immutable object will result in an error. For example, strings and tuples cannot be changed after creation."
   ]
  },
  {
   "cell_type": "code",
   "execution_count": 3,
   "id": "577bedf4",
   "metadata": {},
   "outputs": [
    {
     "name": "stdout",
     "output_type": "stream",
     "text": [
      "Original a: 10\n",
      "Modified a: 15\n",
      "Original s: hello\n",
      "Error: 'str' object does not support item assignment\n",
      "Original tuple: (1, 2, 3)\n",
      "Error: 'tuple' object does not support item assignment\n"
     ]
    }
   ],
   "source": [
    "# Integer (int)\n",
    "a = 10\n",
    "print('Original a:', a)\n",
    "\n",
    "a = a + 5  # This Creates a New Integer Object\n",
    "print('Modified a:', a)\n",
    "\n",
    "# String (str)\n",
    "s = \"hello\"\n",
    "print('Original s:', s)\n",
    "try:\n",
    "    s[0] = 'H'  # This Will Raise An Error\n",
    "except TypeError as e:\n",
    "    print('Error:', e)\n",
    "\n",
    "# Tuple\n",
    "t = (1, 2, 3)\n",
    "print('Original tuple:', t)\n",
    "try:\n",
    "    t[0] = 10  # This Will Raise An Error\n",
    "except TypeError as e:\n",
    "    print('Error:', e)\n"
   ]
  },
  {
   "cell_type": "markdown",
   "id": "e867fc87",
   "metadata": {},
   "source": [
    "## Mutable Data Types\n",
    "\n",
    "Mutable data types are types whose values can be changed after they are created. Operations that modify these objects do not create a new object, but change the original object itself.\n",
    "\n",
    "### Mutable Data Types in Python\n",
    "\n",
    "1. **Set** (`set`)\n",
    "2. **List** (`list`)\n",
    "3. **Dictionary** (`dict`)\n",
    "\n",
    "**Note:** You can modify, add, or remove elements from mutable objects."
   ]
  },
  {
   "cell_type": "code",
   "execution_count": null,
   "id": "4a2523c3",
   "metadata": {},
   "outputs": [],
   "source": [
    "# List\n",
    "lst = [1, 2, 3]\n",
    "print('Original list:', lst)\n",
    "\n",
    "lst[0] = 10  # Modifies The List In Place\n",
    "print('Modified list:', lst)\n",
    "\n",
    "# Dictionary\n",
    "d = {'a': 1, 'b': 2}\n",
    "print('Original dict:', d)\n",
    "\n",
    "d['a'] = 100  # Modifies The Dictionary In Place\n",
    "print('Modified dict:', d)\n",
    "\n",
    "# Set\n",
    "s = {1, 2, 3}\n",
    "print('Original set:', s)\n",
    "\n",
    "s.add(4)  # Modifies The Set In Place\n",
    "print('Modified set:', s)\n"
   ]
  }
 ],
 "metadata": {
  "kernelspec": {
   "display_name": "Python 3",
   "language": "python",
   "name": "python3"
  },
  "language_info": {
   "codemirror_mode": {
    "name": "ipython",
    "version": 3
   },
   "file_extension": ".py",
   "mimetype": "text/x-python",
   "name": "python",
   "nbconvert_exporter": "python",
   "pygments_lexer": "ipython3",
   "version": "3.13.5"
  }
 },
 "nbformat": 4,
 "nbformat_minor": 5
}
